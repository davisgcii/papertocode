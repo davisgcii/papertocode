{
 "cells": [
  {
   "cell_type": "code",
   "execution_count": 2,
   "metadata": {},
   "outputs": [
    {
     "ename": "ModuleNotFoundError",
     "evalue": "No module named 'langchain'",
     "output_type": "error",
     "traceback": [
      "\u001b[0;31m---------------------------------------------------------------------------\u001b[0m",
      "\u001b[0;31mModuleNotFoundError\u001b[0m                       Traceback (most recent call last)",
      "Cell \u001b[0;32mIn[2], line 1\u001b[0m\n\u001b[0;32m----> 1\u001b[0m \u001b[39mfrom\u001b[39;00m \u001b[39mlangchain\u001b[39;00m\u001b[39m.\u001b[39;00m\u001b[39mvectorstores\u001b[39;00m \u001b[39mimport\u001b[39;00m Chroma\n\u001b[1;32m      2\u001b[0m \u001b[39mfrom\u001b[39;00m \u001b[39mlangchain\u001b[39;00m\u001b[39m.\u001b[39;00m\u001b[39membeddings\u001b[39;00m \u001b[39mimport\u001b[39;00m OpenAIEmbeddings\n\u001b[1;32m      3\u001b[0m \u001b[39mfrom\u001b[39;00m \u001b[39mlangchain\u001b[39;00m\u001b[39m.\u001b[39;00m\u001b[39mtext_splitter\u001b[39;00m \u001b[39mimport\u001b[39;00m RecursiveCharacterTextSplitter\n",
      "\u001b[0;31mModuleNotFoundError\u001b[0m: No module named 'langchain'"
     ]
    }
   ],
   "source": [
    "from langchain.vectorstores import Chroma\n",
    "from langchain.embeddings import OpenAIEmbeddings\n",
    "from langchain.text_splitter import RecursiveCharacterTextSplitter\n",
    "from langchain.llms import OpenAI\n",
    "from langchain.chains import VectorDBQA\n",
    "from langchain.document_loaders import TextLoader\n",
    "from langchain.document_loaders import OnlinePDFLoader\n",
    "\n",
    "def get_context(arxiv_link: str, prompt: str) -> str:\n",
    "\n",
    "    # Load the document\n",
    "    loader = OnlinePDFLoader(arxiv_link)\n",
    "    doc = loader.load()\n",
    "\n",
    "    # Split the document into sentences\n",
    "    splitter = RecursiveCharacterTextSplitter()\n",
    "    sentences = splitter.split(doc)\n",
    "\n",
    "    # Embed the sentences\n",
    "    embeddings = OpenAIEmbeddings()\n",
    "    embedded_sentences = embeddings.embed(sentences)\n",
    "\n",
    "    # Create a vector store\n",
    "    store = Chroma()\n",
    "\n",
    "    # Create a language model\n",
    "    lm = OpenAI()\n",
    "\n",
    "    # Create a QA chain\n",
    "    chain = VectorDBQA(store, lm)\n",
    "\n",
    "    # Add the embedded sentences to the vector store\n",
    "    for sentence, embedding in zip(sentences, embedded_sentences):\n",
    "        store.add(sentence, embedding)\n",
    "\n",
    "    # Ask the QA chain a question\n",
    "    return chain.ask(prompt)"
   ]
  },
  {
   "cell_type": "code",
   "execution_count": null,
   "metadata": {},
   "outputs": [],
   "source": [
    "get_context('https://arxiv.org/pdf/2006.05987.pdf', 'What is the main idea of the paper?')"
   ]
  },
  {
   "cell_type": "code",
   "execution_count": 15,
   "metadata": {},
   "outputs": [
    {
     "ename": "ImportError",
     "evalue": "Failed to load the Detectron2 model. Ensure that the Detectron2 module is correctly installed.",
     "output_type": "error",
     "traceback": [
      "\u001b[0;31m---------------------------------------------------------------------------\u001b[0m",
      "\u001b[0;31mImportError\u001b[0m                               Traceback (most recent call last)",
      "Cell \u001b[0;32mIn[15], line 2\u001b[0m\n\u001b[1;32m      1\u001b[0m loader \u001b[39m=\u001b[39m OnlinePDFLoader(\u001b[39m\"\u001b[39m\u001b[39mhttps://arxiv.org/abs/1706.03762.pdf\u001b[39m\u001b[39m\"\u001b[39m)\n\u001b[0;32m----> 2\u001b[0m data \u001b[39m=\u001b[39m loader\u001b[39m.\u001b[39;49mload()\n",
      "File \u001b[0;32m~/mambaforge/envs/langchain/lib/python3.9/site-packages/langchain/document_loaders/online_pdf.py:30\u001b[0m, in \u001b[0;36mOnlinePDFLoader.load\u001b[0;34m(self)\u001b[0m\n\u001b[1;32m     28\u001b[0m file\u001b[39m.\u001b[39mclose()\n\u001b[1;32m     29\u001b[0m loader \u001b[39m=\u001b[39m UnstructuredPDFLoader(\u001b[39mstr\u001b[39m(file_path))\n\u001b[0;32m---> 30\u001b[0m \u001b[39mreturn\u001b[39;00m loader\u001b[39m.\u001b[39;49mload()\n",
      "File \u001b[0;32m~/mambaforge/envs/langchain/lib/python3.9/site-packages/langchain/document_loaders/unstructured.py:38\u001b[0m, in \u001b[0;36mUnstructuredBaseLoader.load\u001b[0;34m(self)\u001b[0m\n\u001b[1;32m     36\u001b[0m \u001b[39mdef\u001b[39;00m \u001b[39mload\u001b[39m(\u001b[39mself\u001b[39m) \u001b[39m-\u001b[39m\u001b[39m>\u001b[39m List[Document]:\n\u001b[1;32m     37\u001b[0m \u001b[39m    \u001b[39m\u001b[39m\"\"\"Load file.\"\"\"\u001b[39;00m\n\u001b[0;32m---> 38\u001b[0m     elements \u001b[39m=\u001b[39m \u001b[39mself\u001b[39;49m\u001b[39m.\u001b[39;49m_get_elements()\n\u001b[1;32m     39\u001b[0m     \u001b[39mif\u001b[39;00m \u001b[39mself\u001b[39m\u001b[39m.\u001b[39mmode \u001b[39m==\u001b[39m \u001b[39m\"\u001b[39m\u001b[39melements\u001b[39m\u001b[39m\"\u001b[39m:\n\u001b[1;32m     40\u001b[0m         docs: List[Document] \u001b[39m=\u001b[39m \u001b[39mlist\u001b[39m()\n",
      "File \u001b[0;32m~/mambaforge/envs/langchain/lib/python3.9/site-packages/langchain/document_loaders/pdf.py:15\u001b[0m, in \u001b[0;36mUnstructuredPDFLoader._get_elements\u001b[0;34m(self)\u001b[0m\n\u001b[1;32m     12\u001b[0m \u001b[39mdef\u001b[39;00m \u001b[39m_get_elements\u001b[39m(\u001b[39mself\u001b[39m) \u001b[39m-\u001b[39m\u001b[39m>\u001b[39m List:\n\u001b[1;32m     13\u001b[0m     \u001b[39mfrom\u001b[39;00m \u001b[39munstructured\u001b[39;00m\u001b[39m.\u001b[39;00m\u001b[39mpartition\u001b[39;00m\u001b[39m.\u001b[39;00m\u001b[39mpdf\u001b[39;00m \u001b[39mimport\u001b[39;00m partition_pdf\n\u001b[0;32m---> 15\u001b[0m     \u001b[39mreturn\u001b[39;00m partition_pdf(filename\u001b[39m=\u001b[39;49m\u001b[39mself\u001b[39;49m\u001b[39m.\u001b[39;49mfile_path)\n",
      "File \u001b[0;32m~/mambaforge/envs/langchain/lib/python3.9/site-packages/unstructured/partition/pdf.py:38\u001b[0m, in \u001b[0;36mpartition_pdf\u001b[0;34m(filename, file, url, template, token, include_page_breaks)\u001b[0m\n\u001b[1;32m     36\u001b[0m \u001b[39mif\u001b[39;00m template \u001b[39mis\u001b[39;00m \u001b[39mNone\u001b[39;00m:\n\u001b[1;32m     37\u001b[0m     template \u001b[39m=\u001b[39m \u001b[39m\"\u001b[39m\u001b[39mlayout/pdf\u001b[39m\u001b[39m\"\u001b[39m\n\u001b[0;32m---> 38\u001b[0m \u001b[39mreturn\u001b[39;00m partition_pdf_or_image(\n\u001b[1;32m     39\u001b[0m     filename\u001b[39m=\u001b[39;49mfilename,\n\u001b[1;32m     40\u001b[0m     file\u001b[39m=\u001b[39;49mfile,\n\u001b[1;32m     41\u001b[0m     url\u001b[39m=\u001b[39;49murl,\n\u001b[1;32m     42\u001b[0m     template\u001b[39m=\u001b[39;49mtemplate,\n\u001b[1;32m     43\u001b[0m     token\u001b[39m=\u001b[39;49mtoken,\n\u001b[1;32m     44\u001b[0m     include_page_breaks\u001b[39m=\u001b[39;49minclude_page_breaks,\n\u001b[1;32m     45\u001b[0m )\n",
      "File \u001b[0;32m~/mambaforge/envs/langchain/lib/python3.9/site-packages/unstructured/partition/pdf.py:72\u001b[0m, in \u001b[0;36mpartition_pdf_or_image\u001b[0;34m(filename, file, url, template, token, is_image, include_page_breaks)\u001b[0m\n\u001b[1;32m     70\u001b[0m     \u001b[39mwith\u001b[39;00m warnings\u001b[39m.\u001b[39mcatch_warnings():\n\u001b[1;32m     71\u001b[0m         warnings\u001b[39m.\u001b[39msimplefilter(\u001b[39m\"\u001b[39m\u001b[39mignore\u001b[39m\u001b[39m\"\u001b[39m)\n\u001b[0;32m---> 72\u001b[0m         layout_elements \u001b[39m=\u001b[39m _partition_pdf_or_image_local(\n\u001b[1;32m     73\u001b[0m             filename\u001b[39m=\u001b[39;49mfilename,\n\u001b[1;32m     74\u001b[0m             file\u001b[39m=\u001b[39;49mfile,\n\u001b[1;32m     75\u001b[0m             template\u001b[39m=\u001b[39;49mout_template,\n\u001b[1;32m     76\u001b[0m             is_image\u001b[39m=\u001b[39;49mis_image,\n\u001b[1;32m     77\u001b[0m             include_page_breaks\u001b[39m=\u001b[39;49m\u001b[39mTrue\u001b[39;49;00m,\n\u001b[1;32m     78\u001b[0m         )\n\u001b[1;32m     79\u001b[0m \u001b[39melse\u001b[39;00m:\n\u001b[1;32m     80\u001b[0m     \u001b[39m# NOTE(alan): Remove these lines after different models are handled by routing\u001b[39;00m\n\u001b[1;32m     81\u001b[0m     \u001b[39mif\u001b[39;00m template \u001b[39m==\u001b[39m \u001b[39m\"\u001b[39m\u001b[39mcheckbox\u001b[39m\u001b[39m\"\u001b[39m:\n",
      "File \u001b[0;32m~/mambaforge/envs/langchain/lib/python3.9/site-packages/unstructured/partition/pdf.py:130\u001b[0m, in \u001b[0;36m_partition_pdf_or_image_local\u001b[0;34m(filename, file, template, is_image, include_page_breaks)\u001b[0m\n\u001b[1;32m    121\u001b[0m \u001b[39mexcept\u001b[39;00m \u001b[39mImportError\u001b[39;00m \u001b[39mas\u001b[39;00m e:\n\u001b[1;32m    122\u001b[0m     \u001b[39mraise\u001b[39;00m \u001b[39mException\u001b[39;00m(\n\u001b[1;32m    123\u001b[0m         \u001b[39m\"\u001b[39m\u001b[39mThere was a problem importing unstructured_inference module - it may not be installed \u001b[39m\u001b[39m\"\u001b[39m\n\u001b[1;32m    124\u001b[0m         \u001b[39m\"\u001b[39m\u001b[39mcorrectly... try running pip install unstructured[local-inference] if you installed \u001b[39m\u001b[39m\"\u001b[39m\n\u001b[1;32m    125\u001b[0m         \u001b[39m\"\u001b[39m\u001b[39mthe unstructured library as a package. If you cloned the unstructured repository, try \u001b[39m\u001b[39m\"\u001b[39m\n\u001b[1;32m    126\u001b[0m         \u001b[39m\"\u001b[39m\u001b[39mrunning make install-local-inference from the root directory of the repository.\u001b[39m\u001b[39m\"\u001b[39m\n\u001b[1;32m    127\u001b[0m     ) \u001b[39mfrom\u001b[39;00m \u001b[39me\u001b[39;00m\n\u001b[1;32m    129\u001b[0m layout \u001b[39m=\u001b[39m (\n\u001b[0;32m--> 130\u001b[0m     process_file_with_model(filename, template, is_image\u001b[39m=\u001b[39;49mis_image)\n\u001b[1;32m    131\u001b[0m     \u001b[39mif\u001b[39;00m file \u001b[39mis\u001b[39;00m \u001b[39mNone\u001b[39;00m\n\u001b[1;32m    132\u001b[0m     \u001b[39melse\u001b[39;00m process_data_with_model(file, template, is_image\u001b[39m=\u001b[39mis_image)\n\u001b[1;32m    133\u001b[0m )\n\u001b[1;32m    135\u001b[0m \u001b[39mreturn\u001b[39;00m document_to_element_list(layout, include_page_breaks\u001b[39m=\u001b[39minclude_page_breaks)\n",
      "File \u001b[0;32m~/mambaforge/envs/langchain/lib/python3.9/site-packages/unstructured_inference/inference/layout.py:250\u001b[0m, in \u001b[0;36mprocess_file_with_model\u001b[0;34m(filename, model_name, is_image, ocr_strategy, fixed_layouts)\u001b[0m\n\u001b[1;32m    241\u001b[0m \u001b[39mdef\u001b[39;00m \u001b[39mprocess_file_with_model\u001b[39m(\n\u001b[1;32m    242\u001b[0m     filename: \u001b[39mstr\u001b[39m,\n\u001b[1;32m    243\u001b[0m     model_name: Optional[\u001b[39mstr\u001b[39m],\n\u001b[0;32m   (...)\u001b[0m\n\u001b[1;32m    246\u001b[0m     fixed_layouts: Optional[List[Optional[Layout]]] \u001b[39m=\u001b[39m \u001b[39mNone\u001b[39;00m,\n\u001b[1;32m    247\u001b[0m ) \u001b[39m-\u001b[39m\u001b[39m>\u001b[39m DocumentLayout:\n\u001b[1;32m    248\u001b[0m \u001b[39m    \u001b[39m\u001b[39m\"\"\"Processes pdf file with name filename into a DocumentLayout by using a model identified by\u001b[39;00m\n\u001b[1;32m    249\u001b[0m \u001b[39m    model_name.\"\"\"\u001b[39;00m\n\u001b[0;32m--> 250\u001b[0m     model \u001b[39m=\u001b[39m get_model(model_name)\n\u001b[1;32m    251\u001b[0m     layout \u001b[39m=\u001b[39m (\n\u001b[1;32m    252\u001b[0m         DocumentLayout\u001b[39m.\u001b[39mfrom_image_file(filename, model\u001b[39m=\u001b[39mmodel, ocr_strategy\u001b[39m=\u001b[39mocr_strategy)\n\u001b[1;32m    253\u001b[0m         \u001b[39mif\u001b[39;00m is_image\n\u001b[0;32m   (...)\u001b[0m\n\u001b[1;32m    256\u001b[0m         )\n\u001b[1;32m    257\u001b[0m     )\n\u001b[1;32m    258\u001b[0m     \u001b[39mreturn\u001b[39;00m layout\n",
      "File \u001b[0;32m~/mambaforge/envs/langchain/lib/python3.9/site-packages/unstructured_inference/models/base.py:20\u001b[0m, in \u001b[0;36mget_model\u001b[0;34m(model_name)\u001b[0m\n\u001b[1;32m     18\u001b[0m \u001b[39mif\u001b[39;00m model_name \u001b[39min\u001b[39;00m DETECTRON2_MODEL_TYPES:\n\u001b[1;32m     19\u001b[0m     model: UnstructuredModel \u001b[39m=\u001b[39m UnstructuredDetectronModel()\n\u001b[0;32m---> 20\u001b[0m     model\u001b[39m.\u001b[39;49minitialize(\u001b[39m*\u001b[39;49m\u001b[39m*\u001b[39;49mDETECTRON2_MODEL_TYPES[model_name])\n\u001b[1;32m     21\u001b[0m \u001b[39melif\u001b[39;00m model_name \u001b[39min\u001b[39;00m YOLOX_MODEL_TYPES:\n\u001b[1;32m     22\u001b[0m     model \u001b[39m=\u001b[39m UnstructuredYoloXModel()\n",
      "File \u001b[0;32m~/mambaforge/envs/langchain/lib/python3.9/site-packages/unstructured_inference/models/detectron2.py:76\u001b[0m, in \u001b[0;36mUnstructuredDetectronModel.initialize\u001b[0;34m(self, config_path, model_path, label_map, extra_config, device)\u001b[0m\n\u001b[1;32m     73\u001b[0m \u001b[39m\u001b[39m\u001b[39m\"\"\"Loads the detectron2 model using the specified parameters\"\"\"\u001b[39;00m\n\u001b[1;32m     75\u001b[0m \u001b[39mif\u001b[39;00m \u001b[39mnot\u001b[39;00m is_detectron2_available():\n\u001b[0;32m---> 76\u001b[0m     \u001b[39mraise\u001b[39;00m \u001b[39mImportError\u001b[39;00m(\n\u001b[1;32m     77\u001b[0m         \u001b[39m\"\u001b[39m\u001b[39mFailed to load the Detectron2 model. Ensure that the Detectron2 \u001b[39m\u001b[39m\"\u001b[39m\n\u001b[1;32m     78\u001b[0m         \u001b[39m\"\u001b[39m\u001b[39mmodule is correctly installed.\u001b[39m\u001b[39m\"\u001b[39m\n\u001b[1;32m     79\u001b[0m     )\n\u001b[1;32m     81\u001b[0m config_path_str \u001b[39m=\u001b[39m \u001b[39mstr\u001b[39m(config_path)\n\u001b[1;32m     82\u001b[0m model_path_str: Optional[\u001b[39mstr\u001b[39m] \u001b[39m=\u001b[39m \u001b[39mNone\u001b[39;00m \u001b[39mif\u001b[39;00m model_path \u001b[39mis\u001b[39;00m \u001b[39mNone\u001b[39;00m \u001b[39melse\u001b[39;00m \u001b[39mstr\u001b[39m(model_path)\n",
      "\u001b[0;31mImportError\u001b[0m: Failed to load the Detectron2 model. Ensure that the Detectron2 module is correctly installed."
     ]
    }
   ],
   "source": [
    "loader = OnlinePDFLoader(\"https://arxiv.org/abs/1706.03762.pdf\")\n",
    "data = loader.load()"
   ]
  },
  {
   "cell_type": "code",
   "execution_count": null,
   "metadata": {},
   "outputs": [],
   "source": []
  },
  {
   "cell_type": "code",
   "execution_count": null,
   "metadata": {},
   "outputs": [],
   "source": [
    "text_splitter = RecursiveCharacterTextSplitter(chunk_size=1000, chunk_overlap=0)\n",
    "texts = text_splitter.split_documents(data)"
   ]
  },
  {
   "cell_type": "code",
   "execution_count": null,
   "metadata": {},
   "outputs": [],
   "source": [
    "embeddings = OpenAIEmbeddings()\n",
    "vectordb = Chroma.from_documents(texts, embeddings)"
   ]
  },
  {
   "cell_type": "code",
   "execution_count": null,
   "metadata": {},
   "outputs": [],
   "source": [
    "qa = VectorDBQA.from_chain_type(llm=OpenAI(), chain_type=\"stuff\", vectorstore=vectordb)\n"
   ]
  },
  {
   "cell_type": "code",
   "execution_count": null,
   "metadata": {},
   "outputs": [],
   "source": [
    "query = \"What did the president say about Ketanji Brown Jackson\"\n",
    "qa.run(query)"
   ]
  },
  {
   "cell_type": "code",
   "execution_count": null,
   "metadata": {},
   "outputs": [],
   "source": []
  },
  {
   "cell_type": "code",
   "execution_count": null,
   "metadata": {},
   "outputs": [],
   "source": []
  },
  {
   "cell_type": "code",
   "execution_count": null,
   "metadata": {},
   "outputs": [],
   "source": []
  },
  {
   "cell_type": "code",
   "execution_count": null,
   "metadata": {},
   "outputs": [],
   "source": []
  }
 ],
 "metadata": {
  "kernelspec": {
   "display_name": "Python 3",
   "language": "python",
   "name": "python3"
  },
  "language_info": {
   "codemirror_mode": {
    "name": "ipython",
    "version": 3
   },
   "file_extension": ".py",
   "mimetype": "text/x-python",
   "name": "python",
   "nbconvert_exporter": "python",
   "pygments_lexer": "ipython3",
   "version": "3.11.2"
  },
  "orig_nbformat": 4,
  "vscode": {
   "interpreter": {
    "hash": "b0fa6594d8f4cbf19f97940f81e996739fb7646882a419484c72d19e05852a7e"
   }
  }
 },
 "nbformat": 4,
 "nbformat_minor": 2
}
